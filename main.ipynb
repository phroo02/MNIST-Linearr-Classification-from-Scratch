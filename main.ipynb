{
 "cells": [
  {
   "cell_type": "code",
   "execution_count": 7,
   "id": "dc102c95",
   "metadata": {},
   "outputs": [],
   "source": [
    "import fastai"
   ]
  },
  {
   "cell_type": "code",
   "execution_count": 8,
   "id": "3244f07a",
   "metadata": {},
   "outputs": [],
   "source": [
    "from fastai.data.external import untar_data, URLs\n",
    "\n",
    "path = untar_data(URLs.MNIST_SAMPLE)"
   ]
  },
  {
   "cell_type": "code",
   "execution_count": null,
   "id": "3c59ee2b",
   "metadata": {},
   "outputs": [],
   "source": [
    "path.ls()"
   ]
  },
  {
   "cell_type": "code",
   "execution_count": null,
   "id": "b968a312",
   "metadata": {},
   "outputs": [],
   "source": [
    "(path/'train').ls()"
   ]
  },
  {
   "cell_type": "code",
   "execution_count": null,
   "id": "97541918",
   "metadata": {},
   "outputs": [],
   "source": [
    "threes = (path/'train'/'3').ls().sorted()\n",
    "sevens = (path/'train'/'7').ls().sorted()\n",
    "threes"
   ]
  },
  {
   "cell_type": "code",
   "execution_count": 12,
   "id": "0aaec362",
   "metadata": {},
   "outputs": [
    {
     "data": {
      "image/jpeg": "[encoded data removed]",
      "image/png": "[encoded data removed]",
      "text/plain": [
       "<PIL.PngImagePlugin.PngImageFile image mode=L size=28x28>"
      ]
     },
     "execution_count": 12,
     "metadata": {},
     "output_type": "execute_result"
    }
   ],
   "source": [
    "from PIL import Image\n",
    "\n",
    "im3_path = threes[1]\n",
    "im3 = Image.open(im3_path)\n",
    "im3"
   ]
  },
  {
   "cell_type": "code",
   "execution_count": 13,
   "id": "0bed506e",
   "metadata": {},
   "outputs": [],
   "source": [
    "import numpy as np"
   ]
  },
  {
   "cell_type": "code",
   "execution_count": 14,
   "id": "16b168c0",
   "metadata": {},
   "outputs": [],
   "source": [
    "from torch import tensor\n",
    "import pandas as pd"
   ]
  },
  {
   "cell_type": "code",
   "execution_count": 15,
   "id": "c150995c",
   "metadata": {},
   "outputs": [
    {
     "data": {
      "text/plain": [
       "array([[  0,   0,   0,   0,   0,   0],\n",
       "       [  0,   0,   0,   0,   0,  29],\n",
       "       [  0,   0,   0,  48, 166, 224],\n",
       "       [  0,  93, 244, 249, 253, 187],\n",
       "       [  0, 107, 253, 253, 230,  48],\n",
       "       [  0,   3,  20,  20,  15,   0]], dtype=uint8)"
      ]
     },
     "execution_count": 15,
     "metadata": {},
     "output_type": "execute_result"
    }
   ],
   "source": [
    "np.array(im3)[4:10,4:10]"
   ]
  },
  {
   "cell_type": "code",
   "execution_count": 16,
   "id": "510904f0",
   "metadata": {},
   "outputs": [
    {
     "data": {
      "text/html": [
       "<style type=\"text/css\">\n",
       "#T_c3f21_row0_col0, #T_c3f21_row0_col1, #T_c3f21_row0_col2, #T_c3f21_row0_col3, #T_c3f21_row0_col4, #T_c3f21_row0_col5, #T_c3f21_row0_col6, #T_c3f21_row0_col7, #T_c3f21_row0_col8, #T_c3f21_row0_col9, #T_c3f21_row0_col10, #T_c3f21_row0_col11, #T_c3f21_row0_col12, #T_c3f21_row0_col13, #T_c3f21_row0_col14, #T_c3f21_row0_col15, #T_c3f21_row0_col16, #T_c3f21_row0_col17, #T_c3f21_row1_col0, #T_c3f21_row1_col1, #T_c3f21_row1_col2, #T_c3f21_row1_col3, #T_c3f21_row1_col4, #T_c3f21_row1_col15, #T_c3f21_row1_col16, #T_c3f21_row1_col17, #T_c3f21_row2_col0, #T_c3f21_row2_col1, #T_c3f21_row2_col2, #T_c3f21_row2_col15, #T_c3f21_row2_col16, #T_c3f21_row2_col17, #T_c3f21_row3_col0, #T_c3f21_row3_col15, #T_c3f21_row3_col16, #T_c3f21_row3_col17, #T_c3f21_row4_col0, #T_c3f21_row4_col6, #T_c3f21_row4_col7, #T_c3f21_row4_col8, #T_c3f21_row4_col9, #T_c3f21_row4_col10, #T_c3f21_row4_col15, #T_c3f21_row4_col16, #T_c3f21_row4_col17, #T_c3f21_row5_col0, #T_c3f21_row5_col5, #T_c3f21_row5_col6, #T_c3f21_row5_col7, #T_c3f21_row5_col8, #T_c3f21_row5_col9, #T_c3f21_row5_col15, #T_c3f21_row5_col16, #T_c3f21_row5_col17, #T_c3f21_row6_col0, #T_c3f21_row6_col1, #T_c3f21_row6_col2, #T_c3f21_row6_col3, #T_c3f21_row6_col4, #T_c3f21_row6_col5, #T_c3f21_row6_col6, #T_c3f21_row6_col7, #T_c3f21_row6_col8, #T_c3f21_row6_col9, #T_c3f21_row6_col14, #T_c3f21_row6_col15, #T_c3f21_row6_col16, #T_c3f21_row6_col17, #T_c3f21_row7_col0, #T_c3f21_row7_col1, #T_c3f21_row7_col2, #T_c3f21_row7_col3, #T_c3f21_row7_col4, #T_c3f21_row7_col5, #T_c3f21_row7_col6, #T_c3f21_row7_col13, #T_c3f21_row7_col14, #T_c3f21_row7_col15, #T_c3f21_row7_col16, #T_c3f21_row7_col17, #T_c3f21_row8_col0, #T_c3f21_row8_col1, #T_c3f21_row8_col2, #T_c3f21_row8_col3, #T_c3f21_row8_col4, #T_c3f21_row8_col13, #T_c3f21_row8_col14, #T_c3f21_row8_col15, #T_c3f21_row8_col16, #T_c3f21_row8_col17, #T_c3f21_row9_col0, #T_c3f21_row9_col1, #T_c3f21_row9_col2, #T_c3f21_row9_col3, #T_c3f21_row9_col4, #T_c3f21_row9_col16, #T_c3f21_row9_col17, #T_c3f21_row10_col0, #T_c3f21_row10_col1, #T_c3f21_row10_col2, #T_c3f21_row10_col3, #T_c3f21_row10_col4, #T_c3f21_row10_col5, #T_c3f21_row10_col6, #T_c3f21_row10_col17 {\n",
       "  font-size: 6pt;\n",
       "  background-color: #ffffff;\n",
       "  color: #000000;\n",
       "}\n",
       "#T_c3f21_row1_col5 {\n",
       "  font-size: 6pt;\n",
       "  background-color: #efefef;\n",
       "  color: #000000;\n",
       "}\n",
       "#T_c3f21_row1_col6, #T_c3f21_row1_col13 {\n",
       "  font-size: 6pt;\n",
       "  background-color: #7c7c7c;\n",
       "  color: #f1f1f1;\n",
       "}\n",
       "#T_c3f21_row1_col7 {\n",
       "  font-size: 6pt;\n",
       "  background-color: #4a4a4a;\n",
       "  color: #f1f1f1;\n",
       "}\n",
       "#T_c3f21_row1_col8, #T_c3f21_row1_col9, #T_c3f21_row1_col10, #T_c3f21_row2_col5, #T_c3f21_row2_col6, #T_c3f21_row2_col7, #T_c3f21_row2_col11, #T_c3f21_row2_col12, #T_c3f21_row2_col13, #T_c3f21_row3_col4, #T_c3f21_row3_col12, #T_c3f21_row3_col13, #T_c3f21_row4_col1, #T_c3f21_row4_col2, #T_c3f21_row4_col3, #T_c3f21_row4_col12, #T_c3f21_row4_col13, #T_c3f21_row5_col12, #T_c3f21_row6_col11, #T_c3f21_row9_col11, #T_c3f21_row10_col11, #T_c3f21_row10_col12, #T_c3f21_row10_col13, #T_c3f21_row10_col14, #T_c3f21_row10_col15, #T_c3f21_row10_col16 {\n",
       "  font-size: 6pt;\n",
       "  background-color: #000000;\n",
       "  color: #f1f1f1;\n",
       "}\n",
       "#T_c3f21_row1_col11 {\n",
       "  font-size: 6pt;\n",
       "  background-color: #606060;\n",
       "  color: #f1f1f1;\n",
       "}\n",
       "#T_c3f21_row1_col12 {\n",
       "  font-size: 6pt;\n",
       "  background-color: #4d4d4d;\n",
       "  color: #f1f1f1;\n",
       "}\n",
       "#T_c3f21_row1_col14 {\n",
       "  font-size: 6pt;\n",
       "  background-color: #bbbbbb;\n",
       "  color: #000000;\n",
       "}\n",
       "#T_c3f21_row2_col3 {\n",
       "  font-size: 6pt;\n",
       "  background-color: #e4e4e4;\n",
       "  color: #000000;\n",
       "}\n",
       "#T_c3f21_row2_col4, #T_c3f21_row8_col6 {\n",
       "  font-size: 6pt;\n",
       "  background-color: #6b6b6b;\n",
       "  color: #f1f1f1;\n",
       "}\n",
       "#T_c3f21_row2_col8, #T_c3f21_row2_col14, #T_c3f21_row3_col14 {\n",
       "  font-size: 6pt;\n",
       "  background-color: #171717;\n",
       "  color: #f1f1f1;\n",
       "}\n",
       "#T_c3f21_row2_col9, #T_c3f21_row3_col11 {\n",
       "  font-size: 6pt;\n",
       "  background-color: #4b4b4b;\n",
       "  color: #f1f1f1;\n",
       "}\n",
       "#T_c3f21_row2_col10, #T_c3f21_row7_col10, #T_c3f21_row8_col8, #T_c3f21_row8_col10, #T_c3f21_row9_col8, #T_c3f21_row9_col10 {\n",
       "  font-size: 6pt;\n",
       "  background-color: #010101;\n",
       "  color: #f1f1f1;\n",
       "}\n",
       "#T_c3f21_row3_col1 {\n",
       "  font-size: 6pt;\n",
       "  background-color: #272727;\n",
       "  color: #f1f1f1;\n",
       "}\n",
       "#T_c3f21_row3_col2 {\n",
       "  font-size: 6pt;\n",
       "  background-color: #0a0a0a;\n",
       "  color: #f1f1f1;\n",
       "}\n",
       "#T_c3f21_row3_col3 {\n",
       "  font-size: 6pt;\n",
       "  background-color: #050505;\n",
       "  color: #f1f1f1;\n",
       "}\n",
       "#T_c3f21_row3_col5 {\n",
       "  font-size: 6pt;\n",
       "  background-color: #333333;\n",
       "  color: #f1f1f1;\n",
       "}\n",
       "#T_c3f21_row3_col6 {\n",
       "  font-size: 6pt;\n",
       "  background-color: #e6e6e6;\n",
       "  color: #000000;\n",
       "}\n",
       "#T_c3f21_row3_col7, #T_c3f21_row3_col10 {\n",
       "  font-size: 6pt;\n",
       "  background-color: #fafafa;\n",
       "  color: #000000;\n",
       "}\n",
       "#T_c3f21_row3_col8 {\n",
       "  font-size: 6pt;\n",
       "  background-color: #fbfbfb;\n",
       "  color: #000000;\n",
       "}\n",
       "#T_c3f21_row3_col9 {\n",
       "  font-size: 6pt;\n",
       "  background-color: #fdfdfd;\n",
       "  color: #000000;\n",
       "}\n",
       "#T_c3f21_row4_col4 {\n",
       "  font-size: 6pt;\n",
       "  background-color: #1b1b1b;\n",
       "  color: #f1f1f1;\n",
       "}\n",
       "#T_c3f21_row4_col5 {\n",
       "  font-size: 6pt;\n",
       "  background-color: #e0e0e0;\n",
       "  color: #000000;\n",
       "}\n",
       "#T_c3f21_row4_col11 {\n",
       "  font-size: 6pt;\n",
       "  background-color: #4e4e4e;\n",
       "  color: #f1f1f1;\n",
       "}\n",
       "#T_c3f21_row4_col14 {\n",
       "  font-size: 6pt;\n",
       "  background-color: #767676;\n",
       "  color: #f1f1f1;\n",
       "}\n",
       "#T_c3f21_row5_col1 {\n",
       "  font-size: 6pt;\n",
       "  background-color: #fcfcfc;\n",
       "  color: #000000;\n",
       "}\n",
       "#T_c3f21_row5_col2, #T_c3f21_row5_col3 {\n",
       "  font-size: 6pt;\n",
       "  background-color: #f6f6f6;\n",
       "  color: #000000;\n",
       "}\n",
       "#T_c3f21_row5_col4, #T_c3f21_row7_col7 {\n",
       "  font-size: 6pt;\n",
       "  background-color: #f8f8f8;\n",
       "  color: #000000;\n",
       "}\n",
       "#T_c3f21_row5_col10, #T_c3f21_row10_col7 {\n",
       "  font-size: 6pt;\n",
       "  background-color: #e8e8e8;\n",
       "  color: #000000;\n",
       "}\n",
       "#T_c3f21_row5_col11 {\n",
       "  font-size: 6pt;\n",
       "  background-color: #222222;\n",
       "  color: #f1f1f1;\n",
       "}\n",
       "#T_c3f21_row5_col13, #T_c3f21_row6_col12 {\n",
       "  font-size: 6pt;\n",
       "  background-color: #090909;\n",
       "  color: #f1f1f1;\n",
       "}\n",
       "#T_c3f21_row5_col14 {\n",
       "  font-size: 6pt;\n",
       "  background-color: #d0d0d0;\n",
       "  color: #000000;\n",
       "}\n",
       "#T_c3f21_row6_col10, #T_c3f21_row7_col11, #T_c3f21_row9_col6 {\n",
       "  font-size: 6pt;\n",
       "  background-color: #060606;\n",
       "  color: #f1f1f1;\n",
       "}\n",
       "#T_c3f21_row6_col13 {\n",
       "  font-size: 6pt;\n",
       "  background-color: #979797;\n",
       "  color: #f1f1f1;\n",
       "}\n",
       "#T_c3f21_row7_col8 {\n",
       "  font-size: 6pt;\n",
       "  background-color: #b6b6b6;\n",
       "  color: #000000;\n",
       "}\n",
       "#T_c3f21_row7_col9 {\n",
       "  font-size: 6pt;\n",
       "  background-color: #252525;\n",
       "  color: #f1f1f1;\n",
       "}\n",
       "#T_c3f21_row7_col12 {\n",
       "  font-size: 6pt;\n",
       "  background-color: #999999;\n",
       "  color: #f1f1f1;\n",
       "}\n",
       "#T_c3f21_row8_col5 {\n",
       "  font-size: 6pt;\n",
       "  background-color: #f9f9f9;\n",
       "  color: #000000;\n",
       "}\n",
       "#T_c3f21_row8_col7 {\n",
       "  font-size: 6pt;\n",
       "  background-color: #101010;\n",
       "  color: #f1f1f1;\n",
       "}\n",
       "#T_c3f21_row8_col9, #T_c3f21_row9_col9 {\n",
       "  font-size: 6pt;\n",
       "  background-color: #020202;\n",
       "  color: #f1f1f1;\n",
       "}\n",
       "#T_c3f21_row8_col11 {\n",
       "  font-size: 6pt;\n",
       "  background-color: #545454;\n",
       "  color: #f1f1f1;\n",
       "}\n",
       "#T_c3f21_row8_col12 {\n",
       "  font-size: 6pt;\n",
       "  background-color: #f1f1f1;\n",
       "  color: #000000;\n",
       "}\n",
       "#T_c3f21_row9_col5 {\n",
       "  font-size: 6pt;\n",
       "  background-color: #f7f7f7;\n",
       "  color: #000000;\n",
       "}\n",
       "#T_c3f21_row9_col7 {\n",
       "  font-size: 6pt;\n",
       "  background-color: #030303;\n",
       "  color: #f1f1f1;\n",
       "}\n",
       "#T_c3f21_row9_col12 {\n",
       "  font-size: 6pt;\n",
       "  background-color: #181818;\n",
       "  color: #f1f1f1;\n",
       "}\n",
       "#T_c3f21_row9_col13 {\n",
       "  font-size: 6pt;\n",
       "  background-color: #303030;\n",
       "  color: #f1f1f1;\n",
       "}\n",
       "#T_c3f21_row9_col14 {\n",
       "  font-size: 6pt;\n",
       "  background-color: #a9a9a9;\n",
       "  color: #f1f1f1;\n",
       "}\n",
       "#T_c3f21_row9_col15 {\n",
       "  font-size: 6pt;\n",
       "  background-color: #fefefe;\n",
       "  color: #000000;\n",
       "}\n",
       "#T_c3f21_row10_col8, #T_c3f21_row10_col9 {\n",
       "  font-size: 6pt;\n",
       "  background-color: #bababa;\n",
       "  color: #000000;\n",
       "}\n",
       "#T_c3f21_row10_col10 {\n",
       "  font-size: 6pt;\n",
       "  background-color: #393939;\n",
       "  color: #f1f1f1;\n",
       "}\n",
       "</style>\n",
       "<table id=\"T_c3f21\">\n",
       "  <thead>\n",
       "    <tr>\n",
       "      <th class=\"blank level0\" >&nbsp;</th>\n",
       "      <th id=\"T_c3f21_level0_col0\" class=\"col_heading level0 col0\" >0</th>\n",
       "      <th id=\"T_c3f21_level0_col1\" class=\"col_heading level0 col1\" >1</th>\n",
       "      <th id=\"T_c3f21_level0_col2\" class=\"col_heading level0 col2\" >2</th>\n",
       "      <th id=\"T_c3f21_level0_col3\" class=\"col_heading level0 col3\" >3</th>\n",
       "      <th id=\"T_c3f21_level0_col4\" class=\"col_heading level0 col4\" >4</th>\n",
       "      <th id=\"T_c3f21_level0_col5\" class=\"col_heading level0 col5\" >5</th>\n",
       "      <th id=\"T_c3f21_level0_col6\" class=\"col_heading level0 col6\" >6</th>\n",
       "      <th id=\"T_c3f21_level0_col7\" class=\"col_heading level0 col7\" >7</th>\n",
       "      <th id=\"T_c3f21_level0_col8\" class=\"col_heading level0 col8\" >8</th>\n",
       "      <th id=\"T_c3f21_level0_col9\" class=\"col_heading level0 col9\" >9</th>\n",
       "      <th id=\"T_c3f21_level0_col10\" class=\"col_heading level0 col10\" >10</th>\n",
       "      <th id=\"T_c3f21_level0_col11\" class=\"col_heading level0 col11\" >11</th>\n",
       "      <th id=\"T_c3f21_level0_col12\" class=\"col_heading level0 col12\" >12</th>\n",
       "      <th id=\"T_c3f21_level0_col13\" class=\"col_heading level0 col13\" >13</th>\n",
       "      <th id=\"T_c3f21_level0_col14\" class=\"col_heading level0 col14\" >14</th>\n",
       "      <th id=\"T_c3f21_level0_col15\" class=\"col_heading level0 col15\" >15</th>\n",
       "      <th id=\"T_c3f21_level0_col16\" class=\"col_heading level0 col16\" >16</th>\n",
       "      <th id=\"T_c3f21_level0_col17\" class=\"col_heading level0 col17\" >17</th>\n",
       "    </tr>\n",
       "  </thead>\n",
       "  <tbody>\n",
       "    <tr>\n",
       "      <th id=\"T_c3f21_level0_row0\" class=\"row_heading level0 row0\" >0</th>\n",
       "      <td id=\"T_c3f21_row0_col0\" class=\"data row0 col0\" >0</td>\n",
       "      <td id=\"T_c3f21_row0_col1\" class=\"data row0 col1\" >0</td>\n",
       "      <td id=\"T_c3f21_row0_col2\" class=\"data row0 col2\" >0</td>\n",
       "      <td id=\"T_c3f21_row0_col3\" class=\"data row0 col3\" >0</td>\n",
       "      <td id=\"T_c3f21_row0_col4\" class=\"data row0 col4\" >0</td>\n",
       "      <td id=\"T_c3f21_row0_col5\" class=\"data row0 col5\" >0</td>\n",
       "      <td id=\"T_c3f21_row0_col6\" class=\"data row0 col6\" >0</td>\n",
       "      <td id=\"T_c3f21_row0_col7\" class=\"data row0 col7\" >0</td>\n",
       "      <td id=\"T_c3f21_row0_col8\" class=\"data row0 col8\" >0</td>\n",
       "      <td id=\"T_c3f21_row0_col9\" class=\"data row0 col9\" >0</td>\n",
       "      <td id=\"T_c3f21_row0_col10\" class=\"data row0 col10\" >0</td>\n",
       "      <td id=\"T_c3f21_row0_col11\" class=\"data row0 col11\" >0</td>\n",
       "      <td id=\"T_c3f21_row0_col12\" class=\"data row0 col12\" >0</td>\n",
       "      <td id=\"T_c3f21_row0_col13\" class=\"data row0 col13\" >0</td>\n",
       "      <td id=\"T_c3f21_row0_col14\" class=\"data row0 col14\" >0</td>\n",
       "      <td id=\"T_c3f21_row0_col15\" class=\"data row0 col15\" >0</td>\n",
       "      <td id=\"T_c3f21_row0_col16\" class=\"data row0 col16\" >0</td>\n",
       "      <td id=\"T_c3f21_row0_col17\" class=\"data row0 col17\" >0</td>\n",
       "    </tr>\n",
       "    <tr>\n",
       "      <th id=\"T_c3f21_level0_row1\" class=\"row_heading level0 row1\" >1</th>\n",
       "      <td id=\"T_c3f21_row1_col0\" class=\"data row1 col0\" >0</td>\n",
       "      <td id=\"T_c3f21_row1_col1\" class=\"data row1 col1\" >0</td>\n",
       "      <td id=\"T_c3f21_row1_col2\" class=\"data row1 col2\" >0</td>\n",
       "      <td id=\"T_c3f21_row1_col3\" class=\"data row1 col3\" >0</td>\n",
       "      <td id=\"T_c3f21_row1_col4\" class=\"data row1 col4\" >0</td>\n",
       "      <td id=\"T_c3f21_row1_col5\" class=\"data row1 col5\" >29</td>\n",
       "      <td id=\"T_c3f21_row1_col6\" class=\"data row1 col6\" >150</td>\n",
       "      <td id=\"T_c3f21_row1_col7\" class=\"data row1 col7\" >195</td>\n",
       "      <td id=\"T_c3f21_row1_col8\" class=\"data row1 col8\" >254</td>\n",
       "      <td id=\"T_c3f21_row1_col9\" class=\"data row1 col9\" >255</td>\n",
       "      <td id=\"T_c3f21_row1_col10\" class=\"data row1 col10\" >254</td>\n",
       "      <td id=\"T_c3f21_row1_col11\" class=\"data row1 col11\" >176</td>\n",
       "      <td id=\"T_c3f21_row1_col12\" class=\"data row1 col12\" >193</td>\n",
       "      <td id=\"T_c3f21_row1_col13\" class=\"data row1 col13\" >150</td>\n",
       "      <td id=\"T_c3f21_row1_col14\" class=\"data row1 col14\" >96</td>\n",
       "      <td id=\"T_c3f21_row1_col15\" class=\"data row1 col15\" >0</td>\n",
       "      <td id=\"T_c3f21_row1_col16\" class=\"data row1 col16\" >0</td>\n",
       "      <td id=\"T_c3f21_row1_col17\" class=\"data row1 col17\" >0</td>\n",
       "    </tr>\n",
       "    <tr>\n",
       "      <th id=\"T_c3f21_level0_row2\" class=\"row_heading level0 row2\" >2</th>\n",
       "      <td id=\"T_c3f21_row2_col0\" class=\"data row2 col0\" >0</td>\n",
       "      <td id=\"T_c3f21_row2_col1\" class=\"data row2 col1\" >0</td>\n",
       "      <td id=\"T_c3f21_row2_col2\" class=\"data row2 col2\" >0</td>\n",
       "      <td id=\"T_c3f21_row2_col3\" class=\"data row2 col3\" >48</td>\n",
       "      <td id=\"T_c3f21_row2_col4\" class=\"data row2 col4\" >166</td>\n",
       "      <td id=\"T_c3f21_row2_col5\" class=\"data row2 col5\" >224</td>\n",
       "      <td id=\"T_c3f21_row2_col6\" class=\"data row2 col6\" >253</td>\n",
       "      <td id=\"T_c3f21_row2_col7\" class=\"data row2 col7\" >253</td>\n",
       "      <td id=\"T_c3f21_row2_col8\" class=\"data row2 col8\" >234</td>\n",
       "      <td id=\"T_c3f21_row2_col9\" class=\"data row2 col9\" >196</td>\n",
       "      <td id=\"T_c3f21_row2_col10\" class=\"data row2 col10\" >253</td>\n",
       "      <td id=\"T_c3f21_row2_col11\" class=\"data row2 col11\" >253</td>\n",
       "      <td id=\"T_c3f21_row2_col12\" class=\"data row2 col12\" >253</td>\n",
       "      <td id=\"T_c3f21_row2_col13\" class=\"data row2 col13\" >253</td>\n",
       "      <td id=\"T_c3f21_row2_col14\" class=\"data row2 col14\" >233</td>\n",
       "      <td id=\"T_c3f21_row2_col15\" class=\"data row2 col15\" >0</td>\n",
       "      <td id=\"T_c3f21_row2_col16\" class=\"data row2 col16\" >0</td>\n",
       "      <td id=\"T_c3f21_row2_col17\" class=\"data row2 col17\" >0</td>\n",
       "    </tr>\n",
       "    <tr>\n",
       "      <th id=\"T_c3f21_level0_row3\" class=\"row_heading level0 row3\" >3</th>\n",
       "      <td id=\"T_c3f21_row3_col0\" class=\"data row3 col0\" >0</td>\n",
       "      <td id=\"T_c3f21_row3_col1\" class=\"data row3 col1\" >93</td>\n",
       "      <td id=\"T_c3f21_row3_col2\" class=\"data row3 col2\" >244</td>\n",
       "      <td id=\"T_c3f21_row3_col3\" class=\"data row3 col3\" >249</td>\n",
       "      <td id=\"T_c3f21_row3_col4\" class=\"data row3 col4\" >253</td>\n",
       "      <td id=\"T_c3f21_row3_col5\" class=\"data row3 col5\" >187</td>\n",
       "      <td id=\"T_c3f21_row3_col6\" class=\"data row3 col6\" >46</td>\n",
       "      <td id=\"T_c3f21_row3_col7\" class=\"data row3 col7\" >10</td>\n",
       "      <td id=\"T_c3f21_row3_col8\" class=\"data row3 col8\" >8</td>\n",
       "      <td id=\"T_c3f21_row3_col9\" class=\"data row3 col9\" >4</td>\n",
       "      <td id=\"T_c3f21_row3_col10\" class=\"data row3 col10\" >10</td>\n",
       "      <td id=\"T_c3f21_row3_col11\" class=\"data row3 col11\" >194</td>\n",
       "      <td id=\"T_c3f21_row3_col12\" class=\"data row3 col12\" >253</td>\n",
       "      <td id=\"T_c3f21_row3_col13\" class=\"data row3 col13\" >253</td>\n",
       "      <td id=\"T_c3f21_row3_col14\" class=\"data row3 col14\" >233</td>\n",
       "      <td id=\"T_c3f21_row3_col15\" class=\"data row3 col15\" >0</td>\n",
       "      <td id=\"T_c3f21_row3_col16\" class=\"data row3 col16\" >0</td>\n",
       "      <td id=\"T_c3f21_row3_col17\" class=\"data row3 col17\" >0</td>\n",
       "    </tr>\n",
       "    <tr>\n",
       "      <th id=\"T_c3f21_level0_row4\" class=\"row_heading level0 row4\" >4</th>\n",
       "      <td id=\"T_c3f21_row4_col0\" class=\"data row4 col0\" >0</td>\n",
       "      <td id=\"T_c3f21_row4_col1\" class=\"data row4 col1\" >107</td>\n",
       "      <td id=\"T_c3f21_row4_col2\" class=\"data row4 col2\" >253</td>\n",
       "      <td id=\"T_c3f21_row4_col3\" class=\"data row4 col3\" >253</td>\n",
       "      <td id=\"T_c3f21_row4_col4\" class=\"data row4 col4\" >230</td>\n",
       "      <td id=\"T_c3f21_row4_col5\" class=\"data row4 col5\" >48</td>\n",
       "      <td id=\"T_c3f21_row4_col6\" class=\"data row4 col6\" >0</td>\n",
       "      <td id=\"T_c3f21_row4_col7\" class=\"data row4 col7\" >0</td>\n",
       "      <td id=\"T_c3f21_row4_col8\" class=\"data row4 col8\" >0</td>\n",
       "      <td id=\"T_c3f21_row4_col9\" class=\"data row4 col9\" >0</td>\n",
       "      <td id=\"T_c3f21_row4_col10\" class=\"data row4 col10\" >0</td>\n",
       "      <td id=\"T_c3f21_row4_col11\" class=\"data row4 col11\" >192</td>\n",
       "      <td id=\"T_c3f21_row4_col12\" class=\"data row4 col12\" >253</td>\n",
       "      <td id=\"T_c3f21_row4_col13\" class=\"data row4 col13\" >253</td>\n",
       "      <td id=\"T_c3f21_row4_col14\" class=\"data row4 col14\" >156</td>\n",
       "      <td id=\"T_c3f21_row4_col15\" class=\"data row4 col15\" >0</td>\n",
       "      <td id=\"T_c3f21_row4_col16\" class=\"data row4 col16\" >0</td>\n",
       "      <td id=\"T_c3f21_row4_col17\" class=\"data row4 col17\" >0</td>\n",
       "    </tr>\n",
       "    <tr>\n",
       "      <th id=\"T_c3f21_level0_row5\" class=\"row_heading level0 row5\" >5</th>\n",
       "      <td id=\"T_c3f21_row5_col0\" class=\"data row5 col0\" >0</td>\n",
       "      <td id=\"T_c3f21_row5_col1\" class=\"data row5 col1\" >3</td>\n",
       "      <td id=\"T_c3f21_row5_col2\" class=\"data row5 col2\" >20</td>\n",
       "      <td id=\"T_c3f21_row5_col3\" class=\"data row5 col3\" >20</td>\n",
       "      <td id=\"T_c3f21_row5_col4\" class=\"data row5 col4\" >15</td>\n",
       "      <td id=\"T_c3f21_row5_col5\" class=\"data row5 col5\" >0</td>\n",
       "      <td id=\"T_c3f21_row5_col6\" class=\"data row5 col6\" >0</td>\n",
       "      <td id=\"T_c3f21_row5_col7\" class=\"data row5 col7\" >0</td>\n",
       "      <td id=\"T_c3f21_row5_col8\" class=\"data row5 col8\" >0</td>\n",
       "      <td id=\"T_c3f21_row5_col9\" class=\"data row5 col9\" >0</td>\n",
       "      <td id=\"T_c3f21_row5_col10\" class=\"data row5 col10\" >43</td>\n",
       "      <td id=\"T_c3f21_row5_col11\" class=\"data row5 col11\" >224</td>\n",
       "      <td id=\"T_c3f21_row5_col12\" class=\"data row5 col12\" >253</td>\n",
       "      <td id=\"T_c3f21_row5_col13\" class=\"data row5 col13\" >245</td>\n",
       "      <td id=\"T_c3f21_row5_col14\" class=\"data row5 col14\" >74</td>\n",
       "      <td id=\"T_c3f21_row5_col15\" class=\"data row5 col15\" >0</td>\n",
       "      <td id=\"T_c3f21_row5_col16\" class=\"data row5 col16\" >0</td>\n",
       "      <td id=\"T_c3f21_row5_col17\" class=\"data row5 col17\" >0</td>\n",
       "    </tr>\n",
       "    <tr>\n",
       "      <th id=\"T_c3f21_level0_row6\" class=\"row_heading level0 row6\" >6</th>\n",
       "      <td id=\"T_c3f21_row6_col0\" class=\"data row6 col0\" >0</td>\n",
       "      <td id=\"T_c3f21_row6_col1\" class=\"data row6 col1\" >0</td>\n",
       "      <td id=\"T_c3f21_row6_col2\" class=\"data row6 col2\" >0</td>\n",
       "      <td id=\"T_c3f21_row6_col3\" class=\"data row6 col3\" >0</td>\n",
       "      <td id=\"T_c3f21_row6_col4\" class=\"data row6 col4\" >0</td>\n",
       "      <td id=\"T_c3f21_row6_col5\" class=\"data row6 col5\" >0</td>\n",
       "      <td id=\"T_c3f21_row6_col6\" class=\"data row6 col6\" >0</td>\n",
       "      <td id=\"T_c3f21_row6_col7\" class=\"data row6 col7\" >0</td>\n",
       "      <td id=\"T_c3f21_row6_col8\" class=\"data row6 col8\" >0</td>\n",
       "      <td id=\"T_c3f21_row6_col9\" class=\"data row6 col9\" >0</td>\n",
       "      <td id=\"T_c3f21_row6_col10\" class=\"data row6 col10\" >249</td>\n",
       "      <td id=\"T_c3f21_row6_col11\" class=\"data row6 col11\" >253</td>\n",
       "      <td id=\"T_c3f21_row6_col12\" class=\"data row6 col12\" >245</td>\n",
       "      <td id=\"T_c3f21_row6_col13\" class=\"data row6 col13\" >126</td>\n",
       "      <td id=\"T_c3f21_row6_col14\" class=\"data row6 col14\" >0</td>\n",
       "      <td id=\"T_c3f21_row6_col15\" class=\"data row6 col15\" >0</td>\n",
       "      <td id=\"T_c3f21_row6_col16\" class=\"data row6 col16\" >0</td>\n",
       "      <td id=\"T_c3f21_row6_col17\" class=\"data row6 col17\" >0</td>\n",
       "    </tr>\n",
       "    <tr>\n",
       "      <th id=\"T_c3f21_level0_row7\" class=\"row_heading level0 row7\" >7</th>\n",
       "      <td id=\"T_c3f21_row7_col0\" class=\"data row7 col0\" >0</td>\n",
       "      <td id=\"T_c3f21_row7_col1\" class=\"data row7 col1\" >0</td>\n",
       "      <td id=\"T_c3f21_row7_col2\" class=\"data row7 col2\" >0</td>\n",
       "      <td id=\"T_c3f21_row7_col3\" class=\"data row7 col3\" >0</td>\n",
       "      <td id=\"T_c3f21_row7_col4\" class=\"data row7 col4\" >0</td>\n",
       "      <td id=\"T_c3f21_row7_col5\" class=\"data row7 col5\" >0</td>\n",
       "      <td id=\"T_c3f21_row7_col6\" class=\"data row7 col6\" >0</td>\n",
       "      <td id=\"T_c3f21_row7_col7\" class=\"data row7 col7\" >14</td>\n",
       "      <td id=\"T_c3f21_row7_col8\" class=\"data row7 col8\" >101</td>\n",
       "      <td id=\"T_c3f21_row7_col9\" class=\"data row7 col9\" >223</td>\n",
       "      <td id=\"T_c3f21_row7_col10\" class=\"data row7 col10\" >253</td>\n",
       "      <td id=\"T_c3f21_row7_col11\" class=\"data row7 col11\" >248</td>\n",
       "      <td id=\"T_c3f21_row7_col12\" class=\"data row7 col12\" >124</td>\n",
       "      <td id=\"T_c3f21_row7_col13\" class=\"data row7 col13\" >0</td>\n",
       "      <td id=\"T_c3f21_row7_col14\" class=\"data row7 col14\" >0</td>\n",
       "      <td id=\"T_c3f21_row7_col15\" class=\"data row7 col15\" >0</td>\n",
       "      <td id=\"T_c3f21_row7_col16\" class=\"data row7 col16\" >0</td>\n",
       "      <td id=\"T_c3f21_row7_col17\" class=\"data row7 col17\" >0</td>\n",
       "    </tr>\n",
       "    <tr>\n",
       "      <th id=\"T_c3f21_level0_row8\" class=\"row_heading level0 row8\" >8</th>\n",
       "      <td id=\"T_c3f21_row8_col0\" class=\"data row8 col0\" >0</td>\n",
       "      <td id=\"T_c3f21_row8_col1\" class=\"data row8 col1\" >0</td>\n",
       "      <td id=\"T_c3f21_row8_col2\" class=\"data row8 col2\" >0</td>\n",
       "      <td id=\"T_c3f21_row8_col3\" class=\"data row8 col3\" >0</td>\n",
       "      <td id=\"T_c3f21_row8_col4\" class=\"data row8 col4\" >0</td>\n",
       "      <td id=\"T_c3f21_row8_col5\" class=\"data row8 col5\" >11</td>\n",
       "      <td id=\"T_c3f21_row8_col6\" class=\"data row8 col6\" >166</td>\n",
       "      <td id=\"T_c3f21_row8_col7\" class=\"data row8 col7\" >239</td>\n",
       "      <td id=\"T_c3f21_row8_col8\" class=\"data row8 col8\" >253</td>\n",
       "      <td id=\"T_c3f21_row8_col9\" class=\"data row8 col9\" >253</td>\n",
       "      <td id=\"T_c3f21_row8_col10\" class=\"data row8 col10\" >253</td>\n",
       "      <td id=\"T_c3f21_row8_col11\" class=\"data row8 col11\" >187</td>\n",
       "      <td id=\"T_c3f21_row8_col12\" class=\"data row8 col12\" >30</td>\n",
       "      <td id=\"T_c3f21_row8_col13\" class=\"data row8 col13\" >0</td>\n",
       "      <td id=\"T_c3f21_row8_col14\" class=\"data row8 col14\" >0</td>\n",
       "      <td id=\"T_c3f21_row8_col15\" class=\"data row8 col15\" >0</td>\n",
       "      <td id=\"T_c3f21_row8_col16\" class=\"data row8 col16\" >0</td>\n",
       "      <td id=\"T_c3f21_row8_col17\" class=\"data row8 col17\" >0</td>\n",
       "    </tr>\n",
       "    <tr>\n",
       "      <th id=\"T_c3f21_level0_row9\" class=\"row_heading level0 row9\" >9</th>\n",
       "      <td id=\"T_c3f21_row9_col0\" class=\"data row9 col0\" >0</td>\n",
       "      <td id=\"T_c3f21_row9_col1\" class=\"data row9 col1\" >0</td>\n",
       "      <td id=\"T_c3f21_row9_col2\" class=\"data row9 col2\" >0</td>\n",
       "      <td id=\"T_c3f21_row9_col3\" class=\"data row9 col3\" >0</td>\n",
       "      <td id=\"T_c3f21_row9_col4\" class=\"data row9 col4\" >0</td>\n",
       "      <td id=\"T_c3f21_row9_col5\" class=\"data row9 col5\" >16</td>\n",
       "      <td id=\"T_c3f21_row9_col6\" class=\"data row9 col6\" >248</td>\n",
       "      <td id=\"T_c3f21_row9_col7\" class=\"data row9 col7\" >250</td>\n",
       "      <td id=\"T_c3f21_row9_col8\" class=\"data row9 col8\" >253</td>\n",
       "      <td id=\"T_c3f21_row9_col9\" class=\"data row9 col9\" >253</td>\n",
       "      <td id=\"T_c3f21_row9_col10\" class=\"data row9 col10\" >253</td>\n",
       "      <td id=\"T_c3f21_row9_col11\" class=\"data row9 col11\" >253</td>\n",
       "      <td id=\"T_c3f21_row9_col12\" class=\"data row9 col12\" >232</td>\n",
       "      <td id=\"T_c3f21_row9_col13\" class=\"data row9 col13\" >213</td>\n",
       "      <td id=\"T_c3f21_row9_col14\" class=\"data row9 col14\" >111</td>\n",
       "      <td id=\"T_c3f21_row9_col15\" class=\"data row9 col15\" >2</td>\n",
       "      <td id=\"T_c3f21_row9_col16\" class=\"data row9 col16\" >0</td>\n",
       "      <td id=\"T_c3f21_row9_col17\" class=\"data row9 col17\" >0</td>\n",
       "    </tr>\n",
       "    <tr>\n",
       "      <th id=\"T_c3f21_level0_row10\" class=\"row_heading level0 row10\" >10</th>\n",
       "      <td id=\"T_c3f21_row10_col0\" class=\"data row10 col0\" >0</td>\n",
       "      <td id=\"T_c3f21_row10_col1\" class=\"data row10 col1\" >0</td>\n",
       "      <td id=\"T_c3f21_row10_col2\" class=\"data row10 col2\" >0</td>\n",
       "      <td id=\"T_c3f21_row10_col3\" class=\"data row10 col3\" >0</td>\n",
       "      <td id=\"T_c3f21_row10_col4\" class=\"data row10 col4\" >0</td>\n",
       "      <td id=\"T_c3f21_row10_col5\" class=\"data row10 col5\" >0</td>\n",
       "      <td id=\"T_c3f21_row10_col6\" class=\"data row10 col6\" >0</td>\n",
       "      <td id=\"T_c3f21_row10_col7\" class=\"data row10 col7\" >43</td>\n",
       "      <td id=\"T_c3f21_row10_col8\" class=\"data row10 col8\" >98</td>\n",
       "      <td id=\"T_c3f21_row10_col9\" class=\"data row10 col9\" >98</td>\n",
       "      <td id=\"T_c3f21_row10_col10\" class=\"data row10 col10\" >208</td>\n",
       "      <td id=\"T_c3f21_row10_col11\" class=\"data row10 col11\" >253</td>\n",
       "      <td id=\"T_c3f21_row10_col12\" class=\"data row10 col12\" >253</td>\n",
       "      <td id=\"T_c3f21_row10_col13\" class=\"data row10 col13\" >253</td>\n",
       "      <td id=\"T_c3f21_row10_col14\" class=\"data row10 col14\" >253</td>\n",
       "      <td id=\"T_c3f21_row10_col15\" class=\"data row10 col15\" >187</td>\n",
       "      <td id=\"T_c3f21_row10_col16\" class=\"data row10 col16\" >22</td>\n",
       "      <td id=\"T_c3f21_row10_col17\" class=\"data row10 col17\" >0</td>\n",
       "    </tr>\n",
       "  </tbody>\n",
       "</table>\n"
      ],
      "text/plain": [
       "<pandas.io.formats.style.Styler at 0x16cff8eb0>"
      ]
     },
     "execution_count": 16,
     "metadata": {},
     "output_type": "execute_result"
    }
   ],
   "source": [
    "\n",
    "im3_t = tensor(np.array(im3))\n",
    "df=pd.DataFrame(im3_t[4:15,4:22])\n",
    "df.style.set_properties(**{'font-size':'6pt'}).background_gradient('Greys')"
   ]
  },
  {
   "cell_type": "code",
   "execution_count": 17,
   "id": "43acbbb3",
   "metadata": {},
   "outputs": [
    {
     "data": {
      "text/plain": [
       "(6131, 6265)"
      ]
     },
     "execution_count": 17,
     "metadata": {},
     "output_type": "execute_result"
    }
   ],
   "source": [
    "seven_tensors = [tensor(np.array(Image.open(o))) for o in sevens]\n",
    "three_tensors = [tensor(np.array(Image.open(o))) for o in threes]\n",
    "len(three_tensors), len(seven_tensors)"
   ]
  },
  {
   "cell_type": "code",
   "execution_count": 18,
   "id": "d1a50884",
   "metadata": {},
   "outputs": [
    {
     "data": {
      "image/png": "[encoded data removed]",
      "text/plain": [
       "<Figure size 100x100 with 1 Axes>"
      ]
     },
     "metadata": {},
     "output_type": "display_data"
    }
   ],
   "source": [
    "from fastai.vision.all import show_image\n",
    "show_image(three_tensors[1],cmap=\"Greys\");"
   ]
  },
  {
   "cell_type": "code",
   "execution_count": 19,
   "id": "c932cb46",
   "metadata": {},
   "outputs": [
    {
     "data": {
      "text/plain": [
       "torch.Size([28, 28])"
      ]
     },
     "execution_count": 19,
     "metadata": {},
     "output_type": "execute_result"
    }
   ],
   "source": [
    "three_tensors[1].shape"
   ]
  },
  {
   "cell_type": "code",
   "execution_count": 20,
   "id": "5eddd436",
   "metadata": {},
   "outputs": [],
   "source": [
    "import torch\n",
    "stacked_sevens = torch.stack(seven_tensors).float()/255\n",
    "stacked_threes = torch.stack(three_tensors).float()/255\n",
    "\n"
   ]
  },
  {
   "cell_type": "markdown",
   "id": "c6da9ef7",
   "metadata": {},
   "source": [
    "images/pixel/pixel"
   ]
  },
  {
   "cell_type": "code",
   "execution_count": 21,
   "id": "fa98b9d3",
   "metadata": {},
   "outputs": [
    {
     "data": {
      "text/plain": [
       "torch.Size([6265, 28, 28])"
      ]
     },
     "execution_count": 21,
     "metadata": {},
     "output_type": "execute_result"
    }
   ],
   "source": [
    "stacked_sevens.shape"
   ]
  },
  {
   "cell_type": "markdown",
   "id": "299d8c8f",
   "metadata": {},
   "source": [
    "the lenght of a tensor shape is its rank"
   ]
  },
  {
   "cell_type": "code",
   "execution_count": 22,
   "id": "b68162c1",
   "metadata": {},
   "outputs": [
    {
     "data": {
      "text/plain": [
       "3"
      ]
     },
     "execution_count": 22,
     "metadata": {},
     "output_type": "execute_result"
    }
   ],
   "source": [
    "len(stacked_threes.shape)"
   ]
  },
  {
   "cell_type": "code",
   "execution_count": 23,
   "id": "3728b70e",
   "metadata": {},
   "outputs": [
    {
     "data": {
      "text/plain": [
       "3"
      ]
     },
     "execution_count": 23,
     "metadata": {},
     "output_type": "execute_result"
    }
   ],
   "source": [
    "stacked_threes.ndim"
   ]
  },
  {
   "cell_type": "code",
   "execution_count": 24,
   "id": "01a634dd",
   "metadata": {},
   "outputs": [
    {
     "data": {
      "text/plain": [
       "<Axes: >"
      ]
     },
     "execution_count": 24,
     "metadata": {},
     "output_type": "execute_result"
    },
    {
     "data": {
      "image/png": "[encoded data removed]",
      "text/plain": [
       "<Figure size 100x100 with 1 Axes>"
      ]
     },
     "metadata": {},
     "output_type": "display_data"
    },
    {
     "data": {
      "image/png": "[encoded data removed]",
      "text/plain": [
       "<Figure size 100x100 with 1 Axes>"
      ]
     },
     "metadata": {},
     "output_type": "display_data"
    }
   ],
   "source": [
    "mean3= stacked_threes.mean(0)\n",
    "show_image(mean3,cmap=\"Greys\");\n",
    "show_image(stacked_threes[0],cmap=\"Greys\")"
   ]
  },
  {
   "cell_type": "code",
   "execution_count": 25,
   "id": "1c8eed57",
   "metadata": {},
   "outputs": [
    {
     "data": {
      "text/plain": [
       "<Axes: >"
      ]
     },
     "execution_count": 25,
     "metadata": {},
     "output_type": "execute_result"
    },
    {
     "data": {
      "image/png": "[encoded data removed]",
      "text/plain": [
       "<Figure size 100x100 with 1 Axes>"
      ]
     },
     "metadata": {},
     "output_type": "display_data"
    }
   ],
   "source": [
    "mean7 = stacked_sevens.mean(0)\n",
    "show_image(mean7, cmap='Greys')"
   ]
  },
  {
   "cell_type": "code",
   "execution_count": 26,
   "id": "bf2d44cd",
   "metadata": {},
   "outputs": [
    {
     "data": {
      "text/plain": [
       "<Axes: >"
      ]
     },
     "execution_count": 26,
     "metadata": {},
     "output_type": "execute_result"
    },
    {
     "data": {
      "image/png": "[encoded data removed]",
      "text/plain": [
       "<Figure size 100x100 with 1 Axes>"
      ]
     },
     "metadata": {},
     "output_type": "display_data"
    }
   ],
   "source": [
    "a_3 = stacked_threes[1]\n",
    "show_image(a_3, cmap='Greys')"
   ]
  },
  {
   "cell_type": "code",
   "execution_count": 27,
   "id": "4e910337",
   "metadata": {},
   "outputs": [
    {
     "data": {
      "text/plain": [
       "(tensor(0.1114), tensor(0.2021))"
      ]
     },
     "execution_count": 27,
     "metadata": {},
     "output_type": "execute_result"
    }
   ],
   "source": [
    "dist_3_abs = (a_3 - mean3).abs().mean()\n",
    "dist_3_sqr = ((a_3 - mean3)**2).mean().sqrt()\n",
    "dist_3_abs, dist_3_sqr"
   ]
  },
  {
   "cell_type": "code",
   "execution_count": 28,
   "id": "ae933e3d",
   "metadata": {},
   "outputs": [
    {
     "data": {
      "text/plain": [
       "(tensor(0.1586), tensor(0.3021))"
      ]
     },
     "execution_count": 28,
     "metadata": {},
     "output_type": "execute_result"
    }
   ],
   "source": [
    "dist_7_abs = (a_3 - mean7).abs().mean()\n",
    "dist_7_sqr = ((a_3 - mean7)**2).mean().sqrt()\n",
    "dist_7_abs, dist_7_sqr"
   ]
  },
  {
   "cell_type": "code",
   "execution_count": 29,
   "id": "a581669c",
   "metadata": {},
   "outputs": [
    {
     "data": {
      "text/plain": [
       "(tensor(0.1586), tensor(0.3021))"
      ]
     },
     "execution_count": 29,
     "metadata": {},
     "output_type": "execute_result"
    }
   ],
   "source": [
    "import torch.nn.functional as F\n",
    "F.l1_loss(a_3.float(), mean7), F.mse_loss(a_3,mean7).sqrt()"
   ]
  },
  {
   "cell_type": "code",
   "execution_count": 30,
   "id": "efcd9219",
   "metadata": {},
   "outputs": [],
   "source": [
    "valid_3_tens = torch.stack([tensor(np.array(Image.open(o))) for o in (path/'valid'/'3').ls()])\n",
    "valid_3_tens = valid_3_tens.float()/255"
   ]
  },
  {
   "cell_type": "code",
   "execution_count": 31,
   "id": "4364fde6",
   "metadata": {},
   "outputs": [],
   "source": [
    "valid_7_tens = torch.stack([tensor(np.array(Image.open(o))) for o in (path/'valid'/'7').ls()])\n",
    "valid_7_tens = valid_7_tens.float()/255"
   ]
  },
  {
   "cell_type": "code",
   "execution_count": 32,
   "id": "8acfbdb5",
   "metadata": {},
   "outputs": [
    {
     "data": {
      "text/plain": [
       "(torch.Size([1010, 28, 28]), torch.Size([1028, 28, 28]))"
      ]
     },
     "execution_count": 32,
     "metadata": {},
     "output_type": "execute_result"
    }
   ],
   "source": [
    "valid_3_tens.shape , valid_7_tens.shape"
   ]
  },
  {
   "cell_type": "code",
   "execution_count": 33,
   "id": "9f7fca89",
   "metadata": {},
   "outputs": [
    {
     "data": {
      "text/plain": [
       "tensor(0.1114)"
      ]
     },
     "execution_count": 33,
     "metadata": {},
     "output_type": "execute_result"
    }
   ],
   "source": [
    "def mnist_distance(a,b) : return (a-b).abs().mean((-1,-2))\n",
    "mnist_distance(a_3, mean3)"
   ]
  },
  {
   "cell_type": "code",
   "execution_count": 34,
   "id": "926e2a81",
   "metadata": {},
   "outputs": [
    {
     "data": {
      "text/plain": [
       "(tensor([0.1634, 0.1145, 0.1363,  ..., 0.1105, 0.1111, 0.1640]),\n",
       " torch.Size([1010]))"
      ]
     },
     "execution_count": 34,
     "metadata": {},
     "output_type": "execute_result"
    }
   ],
   "source": [
    "valid_3_dist = mnist_distance(valid_3_tens, mean3)\n",
    "valid_3_dist, valid_3_dist.shape"
   ]
  },
  {
   "cell_type": "code",
   "execution_count": 35,
   "id": "f21e6339",
   "metadata": {},
   "outputs": [],
   "source": [
    "def is_3(x): return mnist_distance(x,mean3) < mnist_distance(x,mean7)"
   ]
  },
  {
   "cell_type": "code",
   "execution_count": 36,
   "id": "e440a11d",
   "metadata": {},
   "outputs": [
    {
     "data": {
      "text/plain": [
       "(tensor([True, True, True,  ..., True, True, True]), tensor(1.))"
      ]
     },
     "execution_count": 36,
     "metadata": {},
     "output_type": "execute_result"
    }
   ],
   "source": [
    "is_3(valid_3_tens), is_3(a_3).float()"
   ]
  },
  {
   "cell_type": "code",
   "execution_count": 37,
   "id": "3956c273",
   "metadata": {},
   "outputs": [
    {
     "data": {
      "text/plain": [
       "(tensor(0.9168), tensor(0.9854))"
      ]
     },
     "execution_count": 37,
     "metadata": {},
     "output_type": "execute_result"
    }
   ],
   "source": [
    "accuracy_3s = is_3(valid_3_tens).float().mean()\n",
    "accuracy_7s = (1 - is_3(valid_7_tens).float()).mean()\n",
    "accuracy_3s, accuracy_7s"
   ]
  },
  {
   "cell_type": "code",
   "execution_count": 38,
   "id": "ad5316fa",
   "metadata": {},
   "outputs": [
    {
     "data": {
      "image/png": "[encoded data removed]",
      "text/plain": [
       "<Figure size 640x480 with 1 Axes>"
      ]
     },
     "metadata": {},
     "output_type": "display_data"
    }
   ],
   "source": [
    "\n",
    "def f(x): return x**2\n",
    "\n",
    "import numpy as np\n",
    "import matplotlib.pyplot as plt\n",
    "\n",
    "def f(x):\n",
    "    return x**2\n",
    "\n",
    "# Create x values\n",
    "x = np.linspace(-5, 5, 200)  # from -5 to 5, 200 points\n",
    "y = f(x)\n",
    "\n",
    "# Plot\n",
    "plt.plot(x, y, label=\"x^2\")\n",
    "plt.xlabel(\"x\")\n",
    "plt.ylabel(\"x^2\")\n",
    "plt.title(\"Plot of f(x) = x^2\")\n",
    "plt.legend()\n",
    "plt.grid(True)\n",
    "plt.scatter(-1.5, f(-1.5), color='red')\n",
    "plt.show()"
   ]
  },
  {
   "cell_type": "code",
   "execution_count": 39,
   "id": "76ccd7e9",
   "metadata": {},
   "outputs": [],
   "source": [
    "xt = tensor(3.).requires_grad_()"
   ]
  },
  {
   "cell_type": "code",
   "execution_count": 40,
   "id": "e9aa8da6",
   "metadata": {},
   "outputs": [
    {
     "data": {
      "text/plain": [
       "tensor(9., grad_fn=<PowBackward0>)"
      ]
     },
     "execution_count": 40,
     "metadata": {},
     "output_type": "execute_result"
    }
   ],
   "source": [
    "yt = f(xt)\n",
    "yt"
   ]
  },
  {
   "cell_type": "code",
   "execution_count": 41,
   "id": "6b0f6b9b",
   "metadata": {},
   "outputs": [],
   "source": [
    "yt.backward()"
   ]
  },
  {
   "cell_type": "code",
   "execution_count": 42,
   "id": "9d51a64a",
   "metadata": {},
   "outputs": [
    {
     "data": {
      "text/plain": [
       "tensor(6.)"
      ]
     },
     "execution_count": 42,
     "metadata": {},
     "output_type": "execute_result"
    }
   ],
   "source": [
    "xt.grad"
   ]
  },
  {
   "cell_type": "code",
   "execution_count": 43,
   "id": "16674262",
   "metadata": {},
   "outputs": [],
   "source": [
    "train_x = torch.cat([stacked_threes, stacked_sevens]).view(-1, 28*28)"
   ]
  },
  {
   "cell_type": "code",
   "execution_count": 44,
   "id": "6a25dd63",
   "metadata": {},
   "outputs": [
    {
     "data": {
      "text/plain": [
       "(torch.Size([12396, 1]), torch.Size([12396, 784]))"
      ]
     },
     "execution_count": 44,
     "metadata": {},
     "output_type": "execute_result"
    }
   ],
   "source": [
    "train_y = tensor([1]*len(threes) + [0]*len(sevens)).unsqueeze(1)\n",
    "train_y.shape, train_x.shape"
   ]
  },
  {
   "cell_type": "code",
   "execution_count": 45,
   "id": "172138d4",
   "metadata": {},
   "outputs": [
    {
     "data": {
      "text/plain": [
       "(torch.Size([784]), tensor([1]))"
      ]
     },
     "execution_count": 45,
     "metadata": {},
     "output_type": "execute_result"
    }
   ],
   "source": [
    "dset = list(zip(train_x, train_y))\n",
    "x,y = dset[0]\n",
    "x.shape, y"
   ]
  },
  {
   "cell_type": "code",
   "execution_count": 46,
   "id": "2de573c8",
   "metadata": {},
   "outputs": [],
   "source": [
    "valid_x = torch.cat([valid_3_tens, valid_7_tens]).view(-1, 28*28)\n",
    "valid_y = tensor([1]*len(valid_3_tens) + [0]*len(valid_7_tens)).unsqueeze(1)\n",
    "valid_dset = list(zip(valid_x, valid_y))"
   ]
  },
  {
   "cell_type": "code",
   "execution_count": 47,
   "id": "f2264c38",
   "metadata": {},
   "outputs": [],
   "source": [
    "def init_params(size, std=1.0): return (torch.randn(size)*std).requires_grad_()\n",
    "weights = init_params((28*28, 1))"
   ]
  },
  {
   "cell_type": "code",
   "execution_count": 48,
   "id": "35ebbf30",
   "metadata": {},
   "outputs": [],
   "source": [
    "bias = init_params(1)"
   ]
  },
  {
   "cell_type": "code",
   "execution_count": 49,
   "id": "af9eb7f6",
   "metadata": {},
   "outputs": [
    {
     "data": {
      "text/plain": [
       "tensor([-20.4974], grad_fn=<AddBackward0>)"
      ]
     },
     "execution_count": 49,
     "metadata": {},
     "output_type": "execute_result"
    }
   ],
   "source": [
    "(train_x[0]*weights.T).sum()+bias"
   ]
  },
  {
   "cell_type": "code",
   "execution_count": 50,
   "id": "55e65e88",
   "metadata": {},
   "outputs": [
    {
     "data": {
      "text/plain": [
       "(torch.Size([12396, 784]), torch.Size([784, 1]))"
      ]
     },
     "execution_count": 50,
     "metadata": {},
     "output_type": "execute_result"
    }
   ],
   "source": [
    "train_x.shape, weights.shape"
   ]
  },
  {
   "cell_type": "code",
   "execution_count": 51,
   "id": "1788ddca",
   "metadata": {},
   "outputs": [
    {
     "data": {
      "text/plain": [
       "tensor([[-20.4974],\n",
       "        [-26.6813],\n",
       "        [-21.0971],\n",
       "        ...,\n",
       "        [-14.3622],\n",
       "        [-22.0075],\n",
       "        [-16.9297]], grad_fn=<AddBackward0>)"
      ]
     },
     "execution_count": 51,
     "metadata": {},
     "output_type": "execute_result"
    }
   ],
   "source": [
    "def linear1(xb): return xb@weights +bias\n",
    "preds = linear1(train_x)\n",
    "preds"
   ]
  },
  {
   "cell_type": "code",
   "execution_count": 52,
   "id": "f96dfb44",
   "metadata": {},
   "outputs": [
    {
     "data": {
      "text/plain": [
       "tensor([[False],\n",
       "        [False],\n",
       "        [False],\n",
       "        ...,\n",
       "        [ True],\n",
       "        [ True],\n",
       "        [ True]])"
      ]
     },
     "execution_count": 52,
     "metadata": {},
     "output_type": "execute_result"
    }
   ],
   "source": [
    "corrects = (preds>0.0).float() == train_y\n",
    "corrects"
   ]
  },
  {
   "cell_type": "code",
   "execution_count": 53,
   "id": "b0f9818a",
   "metadata": {},
   "outputs": [
    {
     "data": {
      "text/plain": [
       "0.513875424861908"
      ]
     },
     "execution_count": 53,
     "metadata": {},
     "output_type": "execute_result"
    }
   ],
   "source": [
    "corrects.float().mean().item()"
   ]
  },
  {
   "cell_type": "code",
   "execution_count": null,
   "id": "68770aa4",
   "metadata": {},
   "outputs": [],
   "source": []
  },
  {
   "cell_type": "code",
   "execution_count": 54,
   "id": "f473b6a7",
   "metadata": {},
   "outputs": [
    {
     "data": {
      "text/plain": [
       "0.513875424861908"
      ]
     },
     "execution_count": 54,
     "metadata": {},
     "output_type": "execute_result"
    }
   ],
   "source": [
    "weights.data[0] *= 1.0001\n",
    "preds = linear1(train_x)\n",
    "((preds>0.0).float() == train_y).float().mean().item()"
   ]
  },
  {
   "cell_type": "markdown",
   "id": "c60163d1",
   "metadata": {},
   "source": [
    "This measures the error for each prediction:\n",
    "\n",
    "If label = 1, we want prediction close to 1 → error = 1 - prediction.\n",
    "\n",
    "Example: target=1, prediction=0.9 → error=0.1 (good)\n",
    "\n",
    "Example: target=1, prediction=0.2 → error=0.8 (bad)\n",
    "\n",
    "If label = 0, we want prediction close to 0 → error = prediction.\n",
    "\n",
    "Example: target=0, prediction=0.1 → error=0.1 (good)\n",
    "\n",
    "Example: target=0, prediction=0.7 → error=0.7 (bad)"
   ]
  },
  {
   "cell_type": "code",
   "execution_count": 55,
   "id": "559c3e88",
   "metadata": {},
   "outputs": [],
   "source": [
    "def mnist_loss(predictions, targets):\n",
    "       return torch.where(targets==1, 1-predictions, predictions).mean()"
   ]
  },
  {
   "cell_type": "code",
   "execution_count": 56,
   "id": "d9a102f6",
   "metadata": {},
   "outputs": [
    {
     "data": {
      "text/plain": [
       "[tensor([ 5, 11,  0, 14,  9]),\n",
       " tensor([ 4,  1,  2, 13,  3]),\n",
       " tensor([10,  7,  6, 12,  8])]"
      ]
     },
     "execution_count": 56,
     "metadata": {},
     "output_type": "execute_result"
    }
   ],
   "source": [
    "from torch.utils.data import DataLoader\n",
    "\n",
    "coll = range(15)\n",
    "dl = DataLoader(coll, batch_size=5, shuffle=True)\n",
    "list(dl)"
   ]
  },
  {
   "cell_type": "code",
   "execution_count": 57,
   "id": "59b9446c",
   "metadata": {},
   "outputs": [
    {
     "data": {
      "text/plain": [
       "(#26) [(0, 'a'),(1, 'b'),(2, 'c'),(3, 'd'),(4, 'e'),(5, 'f'),(6, 'g'),(7, 'h'),(8, 'i'),(9, 'j')...]"
      ]
     },
     "execution_count": 57,
     "metadata": {},
     "output_type": "execute_result"
    }
   ],
   "source": [
    "from fastcore.foundation import L\n",
    "import string\n",
    "\n",
    "ds = L(enumerate(string.ascii_lowercase))\n",
    "ds"
   ]
  },
  {
   "cell_type": "code",
   "execution_count": 58,
   "id": "7f047f14",
   "metadata": {},
   "outputs": [
    {
     "data": {
      "text/plain": [
       "[[tensor([14, 20, 15, 23,  5, 11]), ('o', 'u', 'p', 'x', 'f', 'l')],\n",
       " [tensor([21, 19,  0, 24, 12,  2]), ('v', 't', 'a', 'y', 'm', 'c')],\n",
       " [tensor([10, 13, 16,  6,  7,  9]), ('k', 'n', 'q', 'g', 'h', 'j')],\n",
       " [tensor([18, 17,  1, 25,  3,  8]), ('s', 'r', 'b', 'z', 'd', 'i')],\n",
       " [tensor([ 4, 22]), ('e', 'w')]]"
      ]
     },
     "execution_count": 58,
     "metadata": {},
     "output_type": "execute_result"
    }
   ],
   "source": [
    "\n",
    "dl = DataLoader(ds, batch_size=6, shuffle=True)\n",
    "list(dl)"
   ]
  },
  {
   "cell_type": "code",
   "execution_count": 59,
   "id": "9d6f36c0",
   "metadata": {},
   "outputs": [],
   "source": [
    "weights = init_params((28*28,1))\n",
    "bias = init_params(1)"
   ]
  },
  {
   "cell_type": "code",
   "execution_count": 105,
   "id": "e486d193",
   "metadata": {},
   "outputs": [
    {
     "data": {
      "text/plain": [
       "(torch.Size([256, 784]), torch.Size([256, 1]))"
      ]
     },
     "execution_count": 105,
     "metadata": {},
     "output_type": "execute_result"
    }
   ],
   "source": [
    "from fastcore.utils import first\n",
    "\n",
    "dl = DataLoader(dset, batch_size=256)\n",
    "xb, yb = first(dl)\n",
    "xb.shape, yb.shape"
   ]
  },
  {
   "cell_type": "code",
   "execution_count": 106,
   "id": "11ac32dc",
   "metadata": {},
   "outputs": [],
   "source": [
    "valid_dl = DataLoader(valid_dset, batch_size=256)"
   ]
  },
  {
   "cell_type": "code",
   "execution_count": 107,
   "id": "80ffcf41",
   "metadata": {},
   "outputs": [
    {
     "data": {
      "text/plain": [
       "torch.Size([4, 784])"
      ]
     },
     "execution_count": 107,
     "metadata": {},
     "output_type": "execute_result"
    }
   ],
   "source": [
    "batch = train_x[:4]\n",
    "batch.shape"
   ]
  },
  {
   "cell_type": "code",
   "execution_count": 114,
   "id": "b1e31ee1",
   "metadata": {},
   "outputs": [
    {
     "data": {
      "text/plain": [
       "tensor([[39.1135],\n",
       "        [62.6345],\n",
       "        [63.9271],\n",
       "        [75.6520]], grad_fn=<AddBackward0>)"
      ]
     },
     "execution_count": 114,
     "metadata": {},
     "output_type": "execute_result"
    }
   ],
   "source": [
    "preds = linear1(batch)\n",
    "preds"
   ]
  },
  {
   "cell_type": "code",
   "execution_count": 115,
   "id": "dbb4a035",
   "metadata": {},
   "outputs": [
    {
     "data": {
      "text/plain": [
       "tensor(60.2038, grad_fn=<MeanBackward0>)"
      ]
     },
     "execution_count": 115,
     "metadata": {},
     "output_type": "execute_result"
    }
   ],
   "source": [
    "loss = mnist_loss(preds, train_x[:4])\n",
    "loss"
   ]
  },
  {
   "cell_type": "code",
   "execution_count": 116,
   "id": "b8a31fe6",
   "metadata": {},
   "outputs": [
    {
     "data": {
      "text/plain": [
       "(torch.Size([784, 1]), tensor(0.1508), tensor([0.9981]))"
      ]
     },
     "execution_count": 116,
     "metadata": {},
     "output_type": "execute_result"
    }
   ],
   "source": [
    "loss.backward()\n",
    "weights.grad.shape, weights.grad.mean(), bias.grad"
   ]
  },
  {
   "cell_type": "code",
   "execution_count": 117,
   "id": "0e982164",
   "metadata": {},
   "outputs": [
    {
     "data": {
      "text/plain": [
       "(tensor([0.2893], grad_fn=<SelectBackward0>), tensor(0.9952))"
      ]
     },
     "execution_count": 117,
     "metadata": {},
     "output_type": "execute_result"
    }
   ],
   "source": [
    "weights[0], weights.grad.max()"
   ]
  },
  {
   "cell_type": "code",
   "execution_count": 118,
   "id": "68496c96",
   "metadata": {},
   "outputs": [],
   "source": [
    "def calc_grad(xb, yb, model):\n",
    "       preds = model(xb)\n",
    "       loss = mnist_loss(preds, yb)\n",
    "       loss.backward()"
   ]
  },
  {
   "cell_type": "code",
   "execution_count": 119,
   "id": "19718d49",
   "metadata": {},
   "outputs": [
    {
     "data": {
      "text/plain": [
       "(tensor(-0.0003), tensor([-0.0019]))"
      ]
     },
     "execution_count": 119,
     "metadata": {},
     "output_type": "execute_result"
    }
   ],
   "source": [
    "calc_grad(batch, train_y[:4], linear1)\n",
    "weights.grad.mean(), bias.grad"
   ]
  },
  {
   "cell_type": "code",
   "execution_count": 120,
   "id": "deb92ff4",
   "metadata": {},
   "outputs": [],
   "source": [
    "weights.grad.zero_()\n",
    "bias.grad.zero_();"
   ]
  },
  {
   "cell_type": "code",
   "execution_count": 121,
   "id": "13851a18",
   "metadata": {},
   "outputs": [],
   "source": [
    "def train_epoch(model, lr, prams):\n",
    "       for xb, yb in dl:\n",
    "              calc_grad(xb, yb, model)\n",
    "              for p in prams:\n",
    "                     p.data -= p.grad*lr\n",
    "                     p.grad.zero_()\n"
   ]
  },
  {
   "cell_type": "code",
   "execution_count": 122,
   "id": "b5765b99",
   "metadata": {},
   "outputs": [],
   "source": [
    "def batch_accuracy(xb, yb):\n",
    "       preds= xb.sigmoid()\n",
    "       correct = (preds>0.5) == yb\n",
    "       return correct.float().mean()"
   ]
  },
  {
   "cell_type": "code",
   "execution_count": 123,
   "id": "a7a999da",
   "metadata": {},
   "outputs": [
    {
     "data": {
      "text/plain": [
       "tensor(1.)"
      ]
     },
     "execution_count": 123,
     "metadata": {},
     "output_type": "execute_result"
    }
   ],
   "source": [
    "batch_accuracy(linear1(batch), train_y[:4])"
   ]
  },
  {
   "cell_type": "code",
   "execution_count": 124,
   "id": "8380cdff",
   "metadata": {},
   "outputs": [],
   "source": [
    "def validate_epoch(model):\n",
    "       accs = [batch_accuracy(model(xb), yb) for xb,yb in valid_dl]\n",
    "       return round(torch.stack(accs).mean().item(),4)"
   ]
  },
  {
   "cell_type": "code",
   "execution_count": 125,
   "id": "b079751c",
   "metadata": {},
   "outputs": [
    {
     "data": {
      "text/plain": [
       "0.9376"
      ]
     },
     "execution_count": 125,
     "metadata": {},
     "output_type": "execute_result"
    }
   ],
   "source": [
    "validate_epoch(linear1)"
   ]
  },
  {
   "cell_type": "code",
   "execution_count": 126,
   "id": "e14f741e",
   "metadata": {},
   "outputs": [
    {
     "data": {
      "text/plain": [
       "0.9513"
      ]
     },
     "execution_count": 126,
     "metadata": {},
     "output_type": "execute_result"
    }
   ],
   "source": [
    "lr =0.1\n",
    "prams = weights, bias\n",
    "train_epoch(linear1, lr, prams)\n",
    "validate_epoch(linear1)\n"
   ]
  },
  {
   "cell_type": "code",
   "execution_count": 127,
   "id": "c8e7d27d",
   "metadata": {},
   "outputs": [
    {
     "name": "stdout",
     "output_type": "stream",
     "text": [
      "0.9542 0.9552 0.9543 0.9547 0.9547 0.9547 0.9547 0.9533 0.9533 0.9538 0.9538 0.9538 0.9543 0.9543 0.9543 0.9543 0.9538 0.9538 0.9538 0.9538 "
     ]
    }
   ],
   "source": [
    "for i in range(20):\n",
    "       train_epoch(linear1, lr, prams)\n",
    "       print(validate_epoch(linear1), end=' ')"
   ]
  },
  {
   "cell_type": "code",
   "execution_count": 128,
   "id": "3cc9fed1",
   "metadata": {},
   "outputs": [],
   "source": [
    "import torch.nn as nn\n",
    "linear_model = nn.Linear(28*28,1)"
   ]
  },
  {
   "cell_type": "code",
   "execution_count": 129,
   "id": "f43ced01",
   "metadata": {},
   "outputs": [
    {
     "data": {
      "text/plain": [
       "(torch.Size([1, 784]), torch.Size([1]))"
      ]
     },
     "execution_count": 129,
     "metadata": {},
     "output_type": "execute_result"
    }
   ],
   "source": [
    "w,b = linear_model.parameters()\n",
    "w.shape, b.shape"
   ]
  },
  {
   "cell_type": "code",
   "execution_count": 130,
   "id": "77e3fea0",
   "metadata": {},
   "outputs": [],
   "source": [
    "class BasicOptim:\n",
    "       def __init__(self, params, lr):\n",
    "              self.params,self.lr = list(params),lr\n",
    "       def step(self, *args, **kwargs):\n",
    "             for p in self.params: p.data -= p.grad.data * self.lr \n",
    "       def zero_grad(self, *args, **kwargs):\n",
    "              for p in self.params: p.grad = None\n",
    "       "
   ]
  },
  {
   "cell_type": "code",
   "execution_count": 131,
   "id": "be7cdccb",
   "metadata": {},
   "outputs": [],
   "source": [
    "opt = BasicOptim(linear_model.parameters(), lr)"
   ]
  },
  {
   "cell_type": "code",
   "execution_count": 132,
   "id": "3935e1bb",
   "metadata": {},
   "outputs": [],
   "source": [
    "def train_epoch(model):\n",
    "       for xb,yb in dl:\n",
    "              calc_grad(xb, yb, model)\n",
    "              opt.step()\n",
    "              opt.zero_grad()"
   ]
  },
  {
   "cell_type": "code",
   "execution_count": 133,
   "id": "da21f8f5",
   "metadata": {},
   "outputs": [],
   "source": [
    "def train_model(model, epochs):\n",
    "       for i in range(epochs):\n",
    "              train_epoch(model)\n",
    "              print(validate_epoch(model), end=' ')"
   ]
  },
  {
   "cell_type": "code",
   "execution_count": 134,
   "id": "c436c4e9",
   "metadata": {},
   "outputs": [
    {
     "name": "stdout",
     "output_type": "stream",
     "text": [
      "0.9533 0.9533 0.9533 0.9533 0.9533 0.9533 0.9533 0.9533 0.9533 0.9533 0.9533 0.9533 0.9533 0.9533 0.9533 0.9533 0.9533 0.9533 0.9533 0.9533 "
     ]
    }
   ],
   "source": [
    "train_model(linear_model, 20)"
   ]
  },
  {
   "cell_type": "code",
   "execution_count": 135,
   "id": "7f1dab8f",
   "metadata": {},
   "outputs": [
    {
     "name": "stdout",
     "output_type": "stream",
     "text": [
      "0.9533 0.9533 0.9533 0.9533 0.9533 0.9533 0.9533 0.9533 0.9533 0.9533 0.9533 0.9533 0.9533 0.9533 0.9533 0.9533 0.9533 0.9533 0.9533 0.9533 "
     ]
    }
   ],
   "source": [
    "from torch.optim import SGD\n",
    "\n",
    "opt = SGD(linear_model.parameters(), lr)\n",
    "train_model(linear_model, 20)"
   ]
  },
  {
   "cell_type": "code",
   "execution_count": 136,
   "id": "77c9bb7e",
   "metadata": {},
   "outputs": [],
   "source": [
    "from fastai.data.core import DataLoaders\n",
    "from fastai.vision.all import *\n",
    "\n",
    "dls = DataLoaders(dl, valid_dl)\n",
    "\n",
    "learn = Learner(dls, nn.Linear(28*28,1), opt_func=SGD,\n",
    "               loss_func=mnist_loss, metrics=batch_accuracy)"
   ]
  },
  {
   "cell_type": "code",
   "execution_count": 137,
   "id": "a0162b6d",
   "metadata": {},
   "outputs": [
    {
     "data": {
      "text/html": [
       "\n",
       "<style>\n",
       "    /* Turns off some styling */\n",
       "    progress {\n",
       "        /* gets rid of default border in Firefox and Opera. */\n",
       "        border: none;\n",
       "        /* Needs to be in here for Safari polyfill so background images work as expected. */\n",
       "        background-size: auto;\n",
       "    }\n",
       "    progress:not([value]), progress:not([value])::-webkit-progress-bar {\n",
       "        background: repeating-linear-gradient(45deg, #7e7e7e, #7e7e7e 10px, #5c5c5c 10px, #5c5c5c 20px);\n",
       "    }\n",
       "    .progress-bar-interrupted, .progress-bar-interrupted::-webkit-progress-bar {\n",
       "        background: #F44336;\n",
       "    }\n",
       "</style>\n"
      ],
      "text/plain": [
       "<IPython.core.display.HTML object>"
      ]
     },
     "metadata": {},
     "output_type": "display_data"
    },
    {
     "data": {
      "text/html": [
       "<table border=\"1\" class=\"dataframe\">\n",
       "  <thead>\n",
       "    <tr style=\"text-align: left;\">\n",
       "      <th>epoch</th>\n",
       "      <th>train_loss</th>\n",
       "      <th>valid_loss</th>\n",
       "      <th>batch_accuracy</th>\n",
       "      <th>time</th>\n",
       "    </tr>\n",
       "  </thead>\n",
       "  <tbody>\n",
       "    <tr>\n",
       "      <td>0</td>\n",
       "      <td>-7.916694</td>\n",
       "      <td>-33.127659</td>\n",
       "      <td>0.952895</td>\n",
       "      <td>00:00</td>\n",
       "    </tr>\n",
       "    <tr>\n",
       "      <td>1</td>\n",
       "      <td>-30.554014</td>\n",
       "      <td>-66.759346</td>\n",
       "      <td>0.952895</td>\n",
       "      <td>00:00</td>\n",
       "    </tr>\n",
       "    <tr>\n",
       "      <td>2</td>\n",
       "      <td>-56.692810</td>\n",
       "      <td>-100.391029</td>\n",
       "      <td>0.953386</td>\n",
       "      <td>00:00</td>\n",
       "    </tr>\n",
       "    <tr>\n",
       "      <td>3</td>\n",
       "      <td>-85.118134</td>\n",
       "      <td>-134.022705</td>\n",
       "      <td>0.953386</td>\n",
       "      <td>00:00</td>\n",
       "    </tr>\n",
       "    <tr>\n",
       "      <td>4</td>\n",
       "      <td>-114.861137</td>\n",
       "      <td>-167.654404</td>\n",
       "      <td>0.953386</td>\n",
       "      <td>00:00</td>\n",
       "    </tr>\n",
       "    <tr>\n",
       "      <td>5</td>\n",
       "      <td>-145.294479</td>\n",
       "      <td>-201.286102</td>\n",
       "      <td>0.953386</td>\n",
       "      <td>00:00</td>\n",
       "    </tr>\n",
       "    <tr>\n",
       "      <td>6</td>\n",
       "      <td>-176.064941</td>\n",
       "      <td>-234.917770</td>\n",
       "      <td>0.953386</td>\n",
       "      <td>00:00</td>\n",
       "    </tr>\n",
       "    <tr>\n",
       "      <td>7</td>\n",
       "      <td>-206.991806</td>\n",
       "      <td>-268.549469</td>\n",
       "      <td>0.953386</td>\n",
       "      <td>00:00</td>\n",
       "    </tr>\n",
       "    <tr>\n",
       "      <td>8</td>\n",
       "      <td>-237.988602</td>\n",
       "      <td>-302.181183</td>\n",
       "      <td>0.953386</td>\n",
       "      <td>00:00</td>\n",
       "    </tr>\n",
       "    <tr>\n",
       "      <td>9</td>\n",
       "      <td>-269.015778</td>\n",
       "      <td>-335.812805</td>\n",
       "      <td>0.953386</td>\n",
       "      <td>00:00</td>\n",
       "    </tr>\n",
       "  </tbody>\n",
       "</table>"
      ],
      "text/plain": [
       "<IPython.core.display.HTML object>"
      ]
     },
     "metadata": {},
     "output_type": "display_data"
    }
   ],
   "source": [
    "learn.fit(10, lr=lr)"
   ]
  },
  {
   "cell_type": "code",
   "execution_count": 138,
   "id": "4faf37b8",
   "metadata": {},
   "outputs": [],
   "source": [
    "learn = Learner(dls, nn.Linear(28*28,1), opt_func=SGD,\n",
    "               loss_func=mnist_loss, metrics=batch_accuracy)\n"
   ]
  },
  {
   "cell_type": "code",
   "execution_count": 139,
   "id": "fb8152bf",
   "metadata": {},
   "outputs": [
    {
     "data": {
      "text/html": [
       "\n",
       "<style>\n",
       "    /* Turns off some styling */\n",
       "    progress {\n",
       "        /* gets rid of default border in Firefox and Opera. */\n",
       "        border: none;\n",
       "        /* Needs to be in here for Safari polyfill so background images work as expected. */\n",
       "        background-size: auto;\n",
       "    }\n",
       "    progress:not([value]), progress:not([value])::-webkit-progress-bar {\n",
       "        background: repeating-linear-gradient(45deg, #7e7e7e, #7e7e7e 10px, #5c5c5c 10px, #5c5c5c 20px);\n",
       "    }\n",
       "    .progress-bar-interrupted, .progress-bar-interrupted::-webkit-progress-bar {\n",
       "        background: #F44336;\n",
       "    }\n",
       "</style>\n"
      ],
      "text/plain": [
       "<IPython.core.display.HTML object>"
      ]
     },
     "metadata": {},
     "output_type": "display_data"
    },
    {
     "data": {
      "text/html": [
       "<table border=\"1\" class=\"dataframe\">\n",
       "  <thead>\n",
       "    <tr style=\"text-align: left;\">\n",
       "      <th>epoch</th>\n",
       "      <th>train_loss</th>\n",
       "      <th>valid_loss</th>\n",
       "      <th>batch_accuracy</th>\n",
       "      <th>time</th>\n",
       "    </tr>\n",
       "  </thead>\n",
       "  <tbody>\n",
       "    <tr>\n",
       "      <td>0</td>\n",
       "      <td>-7.917345</td>\n",
       "      <td>-33.142685</td>\n",
       "      <td>0.953876</td>\n",
       "      <td>00:00</td>\n",
       "    </tr>\n",
       "    <tr>\n",
       "      <td>1</td>\n",
       "      <td>-30.554667</td>\n",
       "      <td>-66.774368</td>\n",
       "      <td>0.953386</td>\n",
       "      <td>00:00</td>\n",
       "    </tr>\n",
       "    <tr>\n",
       "      <td>2</td>\n",
       "      <td>-56.693455</td>\n",
       "      <td>-100.406067</td>\n",
       "      <td>0.953386</td>\n",
       "      <td>00:00</td>\n",
       "    </tr>\n",
       "    <tr>\n",
       "      <td>3</td>\n",
       "      <td>-85.118797</td>\n",
       "      <td>-134.037750</td>\n",
       "      <td>0.953386</td>\n",
       "      <td>00:00</td>\n",
       "    </tr>\n",
       "    <tr>\n",
       "      <td>4</td>\n",
       "      <td>-114.861839</td>\n",
       "      <td>-167.669434</td>\n",
       "      <td>0.953386</td>\n",
       "      <td>00:00</td>\n",
       "    </tr>\n",
       "    <tr>\n",
       "      <td>5</td>\n",
       "      <td>-145.295151</td>\n",
       "      <td>-201.301117</td>\n",
       "      <td>0.953386</td>\n",
       "      <td>00:00</td>\n",
       "    </tr>\n",
       "    <tr>\n",
       "      <td>6</td>\n",
       "      <td>-176.065598</td>\n",
       "      <td>-234.932831</td>\n",
       "      <td>0.953386</td>\n",
       "      <td>00:00</td>\n",
       "    </tr>\n",
       "    <tr>\n",
       "      <td>7</td>\n",
       "      <td>-206.992477</td>\n",
       "      <td>-268.564484</td>\n",
       "      <td>0.953386</td>\n",
       "      <td>00:00</td>\n",
       "    </tr>\n",
       "    <tr>\n",
       "      <td>8</td>\n",
       "      <td>-237.989334</td>\n",
       "      <td>-302.196167</td>\n",
       "      <td>0.953386</td>\n",
       "      <td>00:00</td>\n",
       "    </tr>\n",
       "    <tr>\n",
       "      <td>9</td>\n",
       "      <td>-269.016510</td>\n",
       "      <td>-335.827850</td>\n",
       "      <td>0.953386</td>\n",
       "      <td>00:00</td>\n",
       "    </tr>\n",
       "    <tr>\n",
       "      <td>10</td>\n",
       "      <td>-300.056702</td>\n",
       "      <td>-369.459595</td>\n",
       "      <td>0.953386</td>\n",
       "      <td>00:00</td>\n",
       "    </tr>\n",
       "    <tr>\n",
       "      <td>11</td>\n",
       "      <td>-331.102295</td>\n",
       "      <td>-403.091217</td>\n",
       "      <td>0.953386</td>\n",
       "      <td>00:00</td>\n",
       "    </tr>\n",
       "    <tr>\n",
       "      <td>12</td>\n",
       "      <td>-362.150116</td>\n",
       "      <td>-436.722900</td>\n",
       "      <td>0.953386</td>\n",
       "      <td>00:00</td>\n",
       "    </tr>\n",
       "    <tr>\n",
       "      <td>13</td>\n",
       "      <td>-393.198883</td>\n",
       "      <td>-470.354584</td>\n",
       "      <td>0.953386</td>\n",
       "      <td>00:00</td>\n",
       "    </tr>\n",
       "    <tr>\n",
       "      <td>14</td>\n",
       "      <td>-424.248047</td>\n",
       "      <td>-503.986298</td>\n",
       "      <td>0.953386</td>\n",
       "      <td>00:00</td>\n",
       "    </tr>\n",
       "    <tr>\n",
       "      <td>15</td>\n",
       "      <td>-455.297333</td>\n",
       "      <td>-537.617920</td>\n",
       "      <td>0.953386</td>\n",
       "      <td>00:00</td>\n",
       "    </tr>\n",
       "    <tr>\n",
       "      <td>16</td>\n",
       "      <td>-486.346741</td>\n",
       "      <td>-571.249634</td>\n",
       "      <td>0.953386</td>\n",
       "      <td>00:00</td>\n",
       "    </tr>\n",
       "    <tr>\n",
       "      <td>17</td>\n",
       "      <td>-517.396057</td>\n",
       "      <td>-604.881348</td>\n",
       "      <td>0.953386</td>\n",
       "      <td>00:00</td>\n",
       "    </tr>\n",
       "    <tr>\n",
       "      <td>18</td>\n",
       "      <td>-548.445557</td>\n",
       "      <td>-638.513000</td>\n",
       "      <td>0.953386</td>\n",
       "      <td>00:00</td>\n",
       "    </tr>\n",
       "    <tr>\n",
       "      <td>19</td>\n",
       "      <td>-579.494873</td>\n",
       "      <td>-672.144714</td>\n",
       "      <td>0.953386</td>\n",
       "      <td>00:00</td>\n",
       "    </tr>\n",
       "    <tr>\n",
       "      <td>20</td>\n",
       "      <td>-610.544312</td>\n",
       "      <td>-705.776428</td>\n",
       "      <td>0.953386</td>\n",
       "      <td>00:00</td>\n",
       "    </tr>\n",
       "    <tr>\n",
       "      <td>21</td>\n",
       "      <td>-641.593506</td>\n",
       "      <td>-739.408020</td>\n",
       "      <td>0.953386</td>\n",
       "      <td>00:00</td>\n",
       "    </tr>\n",
       "    <tr>\n",
       "      <td>22</td>\n",
       "      <td>-672.643066</td>\n",
       "      <td>-773.039795</td>\n",
       "      <td>0.953386</td>\n",
       "      <td>00:00</td>\n",
       "    </tr>\n",
       "    <tr>\n",
       "      <td>23</td>\n",
       "      <td>-703.692505</td>\n",
       "      <td>-806.671509</td>\n",
       "      <td>0.953386</td>\n",
       "      <td>00:00</td>\n",
       "    </tr>\n",
       "    <tr>\n",
       "      <td>24</td>\n",
       "      <td>-734.742004</td>\n",
       "      <td>-840.303101</td>\n",
       "      <td>0.953386</td>\n",
       "      <td>00:00</td>\n",
       "    </tr>\n",
       "    <tr>\n",
       "      <td>25</td>\n",
       "      <td>-765.791199</td>\n",
       "      <td>-873.934937</td>\n",
       "      <td>0.953386</td>\n",
       "      <td>00:00</td>\n",
       "    </tr>\n",
       "    <tr>\n",
       "      <td>26</td>\n",
       "      <td>-796.840637</td>\n",
       "      <td>-907.566467</td>\n",
       "      <td>0.953386</td>\n",
       "      <td>00:00</td>\n",
       "    </tr>\n",
       "    <tr>\n",
       "      <td>27</td>\n",
       "      <td>-827.890015</td>\n",
       "      <td>-941.198303</td>\n",
       "      <td>0.953386</td>\n",
       "      <td>00:00</td>\n",
       "    </tr>\n",
       "    <tr>\n",
       "      <td>28</td>\n",
       "      <td>-858.939514</td>\n",
       "      <td>-974.829834</td>\n",
       "      <td>0.953386</td>\n",
       "      <td>00:00</td>\n",
       "    </tr>\n",
       "    <tr>\n",
       "      <td>29</td>\n",
       "      <td>-889.988831</td>\n",
       "      <td>-1008.461609</td>\n",
       "      <td>0.953386</td>\n",
       "      <td>00:00</td>\n",
       "    </tr>\n",
       "    <tr>\n",
       "      <td>30</td>\n",
       "      <td>-921.038147</td>\n",
       "      <td>-1042.093262</td>\n",
       "      <td>0.953386</td>\n",
       "      <td>00:00</td>\n",
       "    </tr>\n",
       "    <tr>\n",
       "      <td>31</td>\n",
       "      <td>-952.087708</td>\n",
       "      <td>-1075.724976</td>\n",
       "      <td>0.953386</td>\n",
       "      <td>00:00</td>\n",
       "    </tr>\n",
       "    <tr>\n",
       "      <td>32</td>\n",
       "      <td>-983.136902</td>\n",
       "      <td>-1109.356689</td>\n",
       "      <td>0.953386</td>\n",
       "      <td>00:00</td>\n",
       "    </tr>\n",
       "    <tr>\n",
       "      <td>33</td>\n",
       "      <td>-1014.186157</td>\n",
       "      <td>-1142.988525</td>\n",
       "      <td>0.953386</td>\n",
       "      <td>00:00</td>\n",
       "    </tr>\n",
       "    <tr>\n",
       "      <td>34</td>\n",
       "      <td>-1045.235596</td>\n",
       "      <td>-1176.619995</td>\n",
       "      <td>0.953386</td>\n",
       "      <td>00:00</td>\n",
       "    </tr>\n",
       "    <tr>\n",
       "      <td>35</td>\n",
       "      <td>-1076.285400</td>\n",
       "      <td>-1210.251709</td>\n",
       "      <td>0.953386</td>\n",
       "      <td>00:00</td>\n",
       "    </tr>\n",
       "    <tr>\n",
       "      <td>36</td>\n",
       "      <td>-1107.334473</td>\n",
       "      <td>-1243.883301</td>\n",
       "      <td>0.953386</td>\n",
       "      <td>00:00</td>\n",
       "    </tr>\n",
       "    <tr>\n",
       "      <td>37</td>\n",
       "      <td>-1138.383789</td>\n",
       "      <td>-1277.515259</td>\n",
       "      <td>0.953386</td>\n",
       "      <td>00:00</td>\n",
       "    </tr>\n",
       "    <tr>\n",
       "      <td>38</td>\n",
       "      <td>-1169.433472</td>\n",
       "      <td>-1311.146851</td>\n",
       "      <td>0.953386</td>\n",
       "      <td>00:00</td>\n",
       "    </tr>\n",
       "    <tr>\n",
       "      <td>39</td>\n",
       "      <td>-1200.483032</td>\n",
       "      <td>-1344.778442</td>\n",
       "      <td>0.953386</td>\n",
       "      <td>00:00</td>\n",
       "    </tr>\n",
       "  </tbody>\n",
       "</table>"
      ],
      "text/plain": [
       "<IPython.core.display.HTML object>"
      ]
     },
     "metadata": {},
     "output_type": "display_data"
    }
   ],
   "source": [
    "learn.fit(40, 0.1)"
   ]
  },
  {
   "cell_type": "code",
   "execution_count": 140,
   "id": "8ab1dedc",
   "metadata": {},
   "outputs": [
    {
     "data": {
      "text/plain": [
       "[<matplotlib.lines.Line2D at 0x32dac5460>]"
      ]
     },
     "execution_count": 140,
     "metadata": {},
     "output_type": "execute_result"
    },
    {
     "data": {
      "image/png": "[encoded data removed]",
      "text/plain": [
       "<Figure size 640x480 with 1 Axes>"
      ]
     },
     "metadata": {},
     "output_type": "display_data"
    }
   ],
   "source": [
    "plt.plot(L(learn.recorder.values).itemgot(2))"
   ]
  },
  {
   "cell_type": "code",
   "execution_count": null,
   "id": "1410d81f",
   "metadata": {},
   "outputs": [],
   "source": []
  }
 ],
 "metadata": {
  "kernelspec": {
   "display_name": "mlprojects",
   "language": "python",
   "name": "python3"
  },
  "language_info": {
   "codemirror_mode": {
    "name": "ipython",
    "version": 3
   },
   "file_extension": ".py",
   "mimetype": "text/x-python",
   "name": "python",
   "nbconvert_exporter": "python",
   "pygments_lexer": "ipython3",
   "version": "3.8.19"
  }
 },
 "nbformat": 4,
 "nbformat_minor": 5
}
